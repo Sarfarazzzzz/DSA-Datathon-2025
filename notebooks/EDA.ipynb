{
 "cells": [
  {
   "cell_type": "code",
   "execution_count": 9,
   "metadata": {},
   "outputs": [
    {
     "name": "stdout",
     "output_type": "stream",
     "text": [
      "Defaulting to user installation because normal site-packages is not writeable\n",
      "Collecting xlrd\n",
      "  Downloading xlrd-2.0.1-py2.py3-none-any.whl (96 kB)\n",
      "\u001b[K     |████████████████████████████████| 96 kB 7.2 MB/s  eta 0:00:01\n",
      "\u001b[?25hInstalling collected packages: xlrd\n",
      "Successfully installed xlrd-2.0.1\n",
      "\u001b[33mWARNING: You are using pip version 21.2.4; however, version 25.0.1 is available.\n",
      "You should consider upgrading via the '/Applications/Xcode.app/Contents/Developer/usr/bin/python3 -m pip install --upgrade pip' command.\u001b[0m\n",
      "Note: you may need to restart the kernel to use updated packages.\n"
     ]
    }
   ],
   "source": [
    "%pip install xlrd"
   ]
  },
  {
   "cell_type": "code",
   "execution_count": 1,
   "metadata": {},
   "outputs": [],
   "source": [
    "import numpy as np \n",
    "import pandas as pd "
   ]
  },
  {
   "cell_type": "code",
   "execution_count": 3,
   "metadata": {},
   "outputs": [
    {
     "data": {
      "text/html": [
       "<div>\n",
       "<style scoped>\n",
       "    .dataframe tbody tr th:only-of-type {\n",
       "        vertical-align: middle;\n",
       "    }\n",
       "\n",
       "    .dataframe tbody tr th {\n",
       "        vertical-align: top;\n",
       "    }\n",
       "\n",
       "    .dataframe thead th {\n",
       "        text-align: right;\n",
       "    }\n",
       "</style>\n",
       "<table border=\"1\" class=\"dataframe\">\n",
       "  <thead>\n",
       "    <tr style=\"text-align: right;\">\n",
       "      <th></th>\n",
       "      <th>CensusTract</th>\n",
       "      <th>State</th>\n",
       "      <th>County</th>\n",
       "      <th>Urban</th>\n",
       "      <th>Pop2010</th>\n",
       "      <th>OHU2010</th>\n",
       "      <th>GroupQuartersFlag</th>\n",
       "      <th>NUMGQTRS</th>\n",
       "      <th>PCTGQTRS</th>\n",
       "      <th>LILATracts_1And10</th>\n",
       "      <th>...</th>\n",
       "      <th>TractSeniors</th>\n",
       "      <th>TractWhite</th>\n",
       "      <th>TractBlack</th>\n",
       "      <th>TractAsian</th>\n",
       "      <th>TractNHOPI</th>\n",
       "      <th>TractAIAN</th>\n",
       "      <th>TractOMultir</th>\n",
       "      <th>TractHispanic</th>\n",
       "      <th>TractHUNV</th>\n",
       "      <th>TractSNAP</th>\n",
       "    </tr>\n",
       "  </thead>\n",
       "  <tbody>\n",
       "    <tr>\n",
       "      <th>0</th>\n",
       "      <td>1001020100</td>\n",
       "      <td>Alabama</td>\n",
       "      <td>Autauga County</td>\n",
       "      <td>1</td>\n",
       "      <td>1912</td>\n",
       "      <td>693</td>\n",
       "      <td>0</td>\n",
       "      <td>0.0</td>\n",
       "      <td>0.00</td>\n",
       "      <td>0</td>\n",
       "      <td>...</td>\n",
       "      <td>221.0</td>\n",
       "      <td>1622.0</td>\n",
       "      <td>217.0</td>\n",
       "      <td>14.0</td>\n",
       "      <td>0.0</td>\n",
       "      <td>14.0</td>\n",
       "      <td>45.0</td>\n",
       "      <td>44.0</td>\n",
       "      <td>6.0</td>\n",
       "      <td>102.0</td>\n",
       "    </tr>\n",
       "    <tr>\n",
       "      <th>1</th>\n",
       "      <td>1001020200</td>\n",
       "      <td>Alabama</td>\n",
       "      <td>Autauga County</td>\n",
       "      <td>1</td>\n",
       "      <td>2170</td>\n",
       "      <td>743</td>\n",
       "      <td>0</td>\n",
       "      <td>181.0</td>\n",
       "      <td>8.34</td>\n",
       "      <td>1</td>\n",
       "      <td>...</td>\n",
       "      <td>214.0</td>\n",
       "      <td>888.0</td>\n",
       "      <td>1217.0</td>\n",
       "      <td>5.0</td>\n",
       "      <td>0.0</td>\n",
       "      <td>5.0</td>\n",
       "      <td>55.0</td>\n",
       "      <td>75.0</td>\n",
       "      <td>89.0</td>\n",
       "      <td>156.0</td>\n",
       "    </tr>\n",
       "    <tr>\n",
       "      <th>2</th>\n",
       "      <td>1001020300</td>\n",
       "      <td>Alabama</td>\n",
       "      <td>Autauga County</td>\n",
       "      <td>1</td>\n",
       "      <td>3373</td>\n",
       "      <td>1256</td>\n",
       "      <td>0</td>\n",
       "      <td>0.0</td>\n",
       "      <td>0.00</td>\n",
       "      <td>0</td>\n",
       "      <td>...</td>\n",
       "      <td>439.0</td>\n",
       "      <td>2576.0</td>\n",
       "      <td>647.0</td>\n",
       "      <td>17.0</td>\n",
       "      <td>5.0</td>\n",
       "      <td>11.0</td>\n",
       "      <td>117.0</td>\n",
       "      <td>87.0</td>\n",
       "      <td>99.0</td>\n",
       "      <td>172.0</td>\n",
       "    </tr>\n",
       "    <tr>\n",
       "      <th>3</th>\n",
       "      <td>1001020400</td>\n",
       "      <td>Alabama</td>\n",
       "      <td>Autauga County</td>\n",
       "      <td>1</td>\n",
       "      <td>4386</td>\n",
       "      <td>1722</td>\n",
       "      <td>0</td>\n",
       "      <td>0.0</td>\n",
       "      <td>0.00</td>\n",
       "      <td>0</td>\n",
       "      <td>...</td>\n",
       "      <td>904.0</td>\n",
       "      <td>4086.0</td>\n",
       "      <td>193.0</td>\n",
       "      <td>18.0</td>\n",
       "      <td>4.0</td>\n",
       "      <td>11.0</td>\n",
       "      <td>74.0</td>\n",
       "      <td>85.0</td>\n",
       "      <td>21.0</td>\n",
       "      <td>98.0</td>\n",
       "    </tr>\n",
       "    <tr>\n",
       "      <th>4</th>\n",
       "      <td>1001020500</td>\n",
       "      <td>Alabama</td>\n",
       "      <td>Autauga County</td>\n",
       "      <td>1</td>\n",
       "      <td>10766</td>\n",
       "      <td>4082</td>\n",
       "      <td>0</td>\n",
       "      <td>181.0</td>\n",
       "      <td>1.68</td>\n",
       "      <td>0</td>\n",
       "      <td>...</td>\n",
       "      <td>1126.0</td>\n",
       "      <td>8666.0</td>\n",
       "      <td>1437.0</td>\n",
       "      <td>296.0</td>\n",
       "      <td>9.0</td>\n",
       "      <td>48.0</td>\n",
       "      <td>310.0</td>\n",
       "      <td>355.0</td>\n",
       "      <td>230.0</td>\n",
       "      <td>339.0</td>\n",
       "    </tr>\n",
       "  </tbody>\n",
       "</table>\n",
       "<p>5 rows × 147 columns</p>\n",
       "</div>"
      ],
      "text/plain": [
       "   CensusTract    State          County  Urban  Pop2010  OHU2010  \\\n",
       "0   1001020100  Alabama  Autauga County      1     1912      693   \n",
       "1   1001020200  Alabama  Autauga County      1     2170      743   \n",
       "2   1001020300  Alabama  Autauga County      1     3373     1256   \n",
       "3   1001020400  Alabama  Autauga County      1     4386     1722   \n",
       "4   1001020500  Alabama  Autauga County      1    10766     4082   \n",
       "\n",
       "   GroupQuartersFlag  NUMGQTRS  PCTGQTRS  LILATracts_1And10  ...  \\\n",
       "0                  0       0.0      0.00                  0  ...   \n",
       "1                  0     181.0      8.34                  1  ...   \n",
       "2                  0       0.0      0.00                  0  ...   \n",
       "3                  0       0.0      0.00                  0  ...   \n",
       "4                  0     181.0      1.68                  0  ...   \n",
       "\n",
       "   TractSeniors  TractWhite  TractBlack  TractAsian  TractNHOPI  TractAIAN  \\\n",
       "0         221.0      1622.0       217.0        14.0         0.0       14.0   \n",
       "1         214.0       888.0      1217.0         5.0         0.0        5.0   \n",
       "2         439.0      2576.0       647.0        17.0         5.0       11.0   \n",
       "3         904.0      4086.0       193.0        18.0         4.0       11.0   \n",
       "4        1126.0      8666.0      1437.0       296.0         9.0       48.0   \n",
       "\n",
       "   TractOMultir  TractHispanic  TractHUNV  TractSNAP  \n",
       "0          45.0           44.0        6.0      102.0  \n",
       "1          55.0           75.0       89.0      156.0  \n",
       "2         117.0           87.0       99.0      172.0  \n",
       "3          74.0           85.0       21.0       98.0  \n",
       "4         310.0          355.0      230.0      339.0  \n",
       "\n",
       "[5 rows x 147 columns]"
      ]
     },
     "execution_count": 3,
     "metadata": {},
     "output_type": "execute_result"
    }
   ],
   "source": [
    "FoodAccessAtlas = pd.read_csv(\"../DATA/FoodAccessResearchAtlasData2019.csv\")\n",
    "FoodAccessAtlas.head()"
   ]
  },
  {
   "cell_type": "code",
   "execution_count": 4,
   "metadata": {},
   "outputs": [
    {
     "data": {
      "text/plain": [
       "147"
      ]
     },
     "execution_count": 4,
     "metadata": {},
     "output_type": "execute_result"
    }
   ],
   "source": [
    "len(FoodAccessAtlas.columns.tolist())"
   ]
  },
  {
   "cell_type": "code",
   "execution_count": 5,
   "metadata": {},
   "outputs": [
    {
     "data": {
      "text/plain": [
       "['Read_Me',\n",
       " ' Variable List',\n",
       " 'Supplemental Data - County',\n",
       " 'Supplemental Data - State',\n",
       " 'ACCESS',\n",
       " 'STORES',\n",
       " 'RESTAURANTS',\n",
       " 'ASSISTANCE',\n",
       " 'INSECURITY',\n",
       " 'TAXES',\n",
       " 'LOCAL',\n",
       " 'HEALTH',\n",
       " 'SOCIOECONOMIC']"
      ]
     },
     "execution_count": 5,
     "metadata": {},
     "output_type": "execute_result"
    }
   ],
   "source": [
    "FoodEnvironmentAtlas = pd.ExcelFile(\"../DATA/FoodEnvironmentAtlas.xls\")\n",
    "FoodEnvironmentAtlas.sheet_names"
   ]
  },
  {
   "cell_type": "code",
   "execution_count": 6,
   "metadata": {},
   "outputs": [
    {
     "data": {
      "text/plain": [
       "pandas.io.excel._base.ExcelFile"
      ]
     },
     "execution_count": 6,
     "metadata": {},
     "output_type": "execute_result"
    }
   ],
   "source": [
    "type(FoodEnvironmentAtlas)"
   ]
  },
  {
   "cell_type": "code",
   "execution_count": 7,
   "metadata": {},
   "outputs": [],
   "source": [
    "FoodEnvironmentAtlas_Variable_List = FoodEnvironmentAtlas.parse(\" Variable List\")"
   ]
  },
  {
   "cell_type": "code",
   "execution_count": 8,
   "metadata": {},
   "outputs": [
    {
     "data": {
      "text/html": [
       "<div>\n",
       "<style scoped>\n",
       "    .dataframe tbody tr th:only-of-type {\n",
       "        vertical-align: middle;\n",
       "    }\n",
       "\n",
       "    .dataframe tbody tr th {\n",
       "        vertical-align: top;\n",
       "    }\n",
       "\n",
       "    .dataframe thead th {\n",
       "        text-align: right;\n",
       "    }\n",
       "</style>\n",
       "<table border=\"1\" class=\"dataframe\">\n",
       "  <thead>\n",
       "    <tr style=\"text-align: right;\">\n",
       "      <th></th>\n",
       "      <th>Category Name</th>\n",
       "      <th>Category Code</th>\n",
       "      <th>Subcategory Name</th>\n",
       "      <th>Variable Name</th>\n",
       "      <th>Variable Code</th>\n",
       "      <th>Geography</th>\n",
       "      <th>Units</th>\n",
       "    </tr>\n",
       "  </thead>\n",
       "  <tbody>\n",
       "    <tr>\n",
       "      <th>0</th>\n",
       "      <td>Access and Proximity to Grocery Store</td>\n",
       "      <td>ACCESS</td>\n",
       "      <td>Overall</td>\n",
       "      <td>Population, low access to store, 2010</td>\n",
       "      <td>LACCESS_POP10</td>\n",
       "      <td>CNTY10</td>\n",
       "      <td>Count</td>\n",
       "    </tr>\n",
       "    <tr>\n",
       "      <th>1</th>\n",
       "      <td>Access and Proximity to Grocery Store</td>\n",
       "      <td>ACCESS</td>\n",
       "      <td>Overall</td>\n",
       "      <td>Population, low access to store, 2015</td>\n",
       "      <td>LACCESS_POP15</td>\n",
       "      <td>CNTY10</td>\n",
       "      <td>Count</td>\n",
       "    </tr>\n",
       "    <tr>\n",
       "      <th>2</th>\n",
       "      <td>Access and Proximity to Grocery Store</td>\n",
       "      <td>ACCESS</td>\n",
       "      <td>Overall</td>\n",
       "      <td>Population, low access to store (% change), 20...</td>\n",
       "      <td>PCH_LACCESS_POP_10_15</td>\n",
       "      <td>CNTY10</td>\n",
       "      <td>% change</td>\n",
       "    </tr>\n",
       "    <tr>\n",
       "      <th>3</th>\n",
       "      <td>Access and Proximity to Grocery Store</td>\n",
       "      <td>ACCESS</td>\n",
       "      <td>Overall</td>\n",
       "      <td>Population, low access to store (%), 2010</td>\n",
       "      <td>PCT_LACCESS_POP10</td>\n",
       "      <td>CNTY10</td>\n",
       "      <td>Percent</td>\n",
       "    </tr>\n",
       "    <tr>\n",
       "      <th>4</th>\n",
       "      <td>Access and Proximity to Grocery Store</td>\n",
       "      <td>ACCESS</td>\n",
       "      <td>Overall</td>\n",
       "      <td>Population, low access to store (%), 2015</td>\n",
       "      <td>PCT_LACCESS_POP15</td>\n",
       "      <td>CNTY10</td>\n",
       "      <td>Percent</td>\n",
       "    </tr>\n",
       "  </tbody>\n",
       "</table>\n",
       "</div>"
      ],
      "text/plain": [
       "                           Category Name Category Code Subcategory Name  \\\n",
       "0  Access and Proximity to Grocery Store        ACCESS          Overall   \n",
       "1  Access and Proximity to Grocery Store        ACCESS          Overall   \n",
       "2  Access and Proximity to Grocery Store        ACCESS          Overall   \n",
       "3  Access and Proximity to Grocery Store        ACCESS          Overall   \n",
       "4  Access and Proximity to Grocery Store        ACCESS          Overall   \n",
       "\n",
       "                                       Variable Name          Variable Code  \\\n",
       "0              Population, low access to store, 2010          LACCESS_POP10   \n",
       "1              Population, low access to store, 2015          LACCESS_POP15   \n",
       "2  Population, low access to store (% change), 20...  PCH_LACCESS_POP_10_15   \n",
       "3          Population, low access to store (%), 2010      PCT_LACCESS_POP10   \n",
       "4          Population, low access to store (%), 2015      PCT_LACCESS_POP15   \n",
       "\n",
       "  Geography     Units  \n",
       "0    CNTY10     Count  \n",
       "1    CNTY10     Count  \n",
       "2    CNTY10  % change  \n",
       "3    CNTY10   Percent  \n",
       "4    CNTY10   Percent  "
      ]
     },
     "execution_count": 8,
     "metadata": {},
     "output_type": "execute_result"
    }
   ],
   "source": [
    "FoodEnvironmentAtlas_Variable_List.head()"
   ]
  },
  {
   "cell_type": "code",
   "execution_count": 48,
   "metadata": {},
   "outputs": [],
   "source": [
    "for sheet in FoodEnvironmentAtlas.sheet_names:\n",
    "    if sheet == \" Variable List\":\n",
    "        continue\n",
    "    elif sheet == \"Read_Me\":\n",
    "        continue    \n",
    "    else:\n",
    "        df  = FoodEnvironmentAtlas.parse(sheet)\n",
    "        df.to_csv(\"DATA/FoodEnvironmentAtlas\" + sheet + \".csv\", index=False)"
   ]
  },
  {
   "cell_type": "code",
   "execution_count": null,
   "metadata": {},
   "outputs": [],
   "source": []
  }
 ],
 "metadata": {
  "kernelspec": {
   "display_name": "Python 3",
   "language": "python",
   "name": "python3"
  },
  "language_info": {
   "codemirror_mode": {
    "name": "ipython",
    "version": 3
   },
   "file_extension": ".py",
   "mimetype": "text/x-python",
   "name": "python",
   "nbconvert_exporter": "python",
   "pygments_lexer": "ipython3",
   "version": "3.9.6"
  }
 },
 "nbformat": 4,
 "nbformat_minor": 2
}
